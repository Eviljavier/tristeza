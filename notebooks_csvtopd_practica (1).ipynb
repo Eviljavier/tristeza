{
  "metadata": {
    "kernelspec": {
      "name": "python",
      "display_name": "Python (Pyodide)",
      "language": "python"
    },
    "language_info": {
      "codemirror_mode": {
        "name": "python",
        "version": 3
      },
      "file_extension": ".py",
      "mimetype": "text/x-python",
      "name": "python",
      "nbconvert_exporter": "python",
      "pygments_lexer": "ipython3",
      "version": "3.8"
    }
  },
  "nbformat_minor": 4,
  "nbformat": 4,
  "cells": [
    {
      "cell_type": "markdown",
      "source": "# Intro python data science\n## Práctica 08: importar datos csv a python\n\nVamos a ver cómo importar csv cuando:\n* Punto 1: datos separados por coma\n* Punto 2: datos separados por puntos y comas\n* Punto 3: no hay nombres de columnas",
      "metadata": {}
    },
    {
      "cell_type": "markdown",
      "source": "# Punto 0:",
      "metadata": {}
    },
    {
      "cell_type": "code",
      "source": "# importar pandas\nimport pandas as pd",
      "metadata": {
        "trusted": true
      },
      "execution_count": 8,
      "outputs": []
    },
    {
      "cell_type": "markdown",
      "source": "# Punto 1:",
      "metadata": {}
    },
    {
      "cell_type": "code",
      "source": "# caso 1: datos separados por coma",
      "metadata": {},
      "execution_count": null,
      "outputs": []
    },
    {
      "cell_type": "code",
      "source": "pd.read_csv('presenciaredes.csv')\n\n",
      "metadata": {
        "trusted": true
      },
      "execution_count": 11,
      "outputs": [
        {
          "execution_count": 11,
          "output_type": "execute_result",
          "data": {
            "text/plain": "   RED SOCIAL                    CONCEPTO   AÑO   ENERO FEBRERO   MARZO  \\\n0    FACEBOOK                  SEGUIDORES  2020  152107  156957  160595   \n1    FACEBOOK    CRECIMIENTO (SEGUIDORES)  2020     660    4850    3638   \n2    FACEBOOK  PORCENTAJE DE CRECIMIENTO   2020   0.43%      3%      2%   \n3    FACEBOOK              PUBLICACIONES   2020      45      53      52   \n4    FACEBOOK  ME GUSTA EN PUBLICACIONES   2020    8771    9002   13556   \n5    FACEBOOK  PUBLICACIONES COMPARTIDAS   2020    2338    2680    2802   \n6    FACEBOOK      COMENTARIOS (USUARIOS)  2020     902     601     775   \n7     TWITTER      SEGUIDORES (FOLLOWERS)  2020   62404   63232   64149   \n8     TWITTER    CRECIMIENTO DE FOLLOWERS  2020     863     828     917   \n9     TWITTER   PORCENTAJE DE CRECIMIENTO  2020      1%      1%      1%   \n10    TWITTER              PUBLICACIONES   2020      77      84      90   \n11    TWITTER                     RETUITS  2020     563     601     748   \n12    TWITTER                    ME GUSTA  2020    1224    1225    1601   \n13    TWITTER                    IMPACTOS  2020  197275  220118  270310   \n14    YOUTUBE                      VIDEOS  2020       1       2       5   \n15    YOUTUBE             VISUALIZACIONES  2020   12226   15605   19602   \n16    YOUTUBE                 COMENTARIOS  2020       0       0       2   \n17    YOUTUBE                    ME GUSTA  2020       4      15      15   \n\n     ABRIL    MAYO   JUNIO JULIO AGOSTO SEPTIEMBRE OCTUBRE NOVIEMBRE  \\\n0   165180  170488  178413     0      0          0       0         0   \n1     4585    5308    7925     0      0          0       0         0   \n2       3%      3%      4%    0%     0%         0%      0%        0%   \n3      106      98      64     0      0          0       0         0   \n4    15022   38953   16487     0      0          0       0         0   \n5     4214    8415    4240     0      0          0       0         0   \n6     1100    2614    1268     0      0          0       0         0   \n7    65410   66355   67496     0      0          0       0         0   \n8     1261     945    1141     0      0          0       0         0   \n9       2%      1%      1%    0%     0%         0%      0%        0%   \n10     135     127      82     0      0          0       0         0   \n11     847    1136     780     0      0          0       0         0   \n12    1994    2667    2069     0      0          0       0         0   \n13  311931  409684  284147     0      0          0       0         0   \n14       4       4       4     0      0          0       3         5   \n15   19452   21805   17344     0      0          0       0         0   \n16       0       6       0     0      0          0       1         3   \n17       8      30      33     0      0          0       8        23   \n\n   DICIEMBRE  Unnamed: 15  \n0          0          NaN  \n1          0          NaN  \n2         0%          NaN  \n3          0          NaN  \n4          0          NaN  \n5          0          NaN  \n6          0          NaN  \n7          0          NaN  \n8          0          NaN  \n9         0%          NaN  \n10         0          NaN  \n11         0          NaN  \n12         0          NaN  \n13         0          NaN  \n14         0          NaN  \n15         0          NaN  \n16         0          NaN  \n17         0          NaN  ",
            "text/html": "<div>\n<style scoped>\n    .dataframe tbody tr th:only-of-type {\n        vertical-align: middle;\n    }\n\n    .dataframe tbody tr th {\n        vertical-align: top;\n    }\n\n    .dataframe thead th {\n        text-align: right;\n    }\n</style>\n<table border=\"1\" class=\"dataframe\">\n  <thead>\n    <tr style=\"text-align: right;\">\n      <th></th>\n      <th>RED SOCIAL</th>\n      <th>CONCEPTO</th>\n      <th>AÑO</th>\n      <th>ENERO</th>\n      <th>FEBRERO</th>\n      <th>MARZO</th>\n      <th>ABRIL</th>\n      <th>MAYO</th>\n      <th>JUNIO</th>\n      <th>JULIO</th>\n      <th>AGOSTO</th>\n      <th>SEPTIEMBRE</th>\n      <th>OCTUBRE</th>\n      <th>NOVIEMBRE</th>\n      <th>DICIEMBRE</th>\n      <th>Unnamed: 15</th>\n    </tr>\n  </thead>\n  <tbody>\n    <tr>\n      <th>0</th>\n      <td>FACEBOOK</td>\n      <td>SEGUIDORES</td>\n      <td>2020</td>\n      <td>152107</td>\n      <td>156957</td>\n      <td>160595</td>\n      <td>165180</td>\n      <td>170488</td>\n      <td>178413</td>\n      <td>0</td>\n      <td>0</td>\n      <td>0</td>\n      <td>0</td>\n      <td>0</td>\n      <td>0</td>\n      <td>NaN</td>\n    </tr>\n    <tr>\n      <th>1</th>\n      <td>FACEBOOK</td>\n      <td>CRECIMIENTO (SEGUIDORES)</td>\n      <td>2020</td>\n      <td>660</td>\n      <td>4850</td>\n      <td>3638</td>\n      <td>4585</td>\n      <td>5308</td>\n      <td>7925</td>\n      <td>0</td>\n      <td>0</td>\n      <td>0</td>\n      <td>0</td>\n      <td>0</td>\n      <td>0</td>\n      <td>NaN</td>\n    </tr>\n    <tr>\n      <th>2</th>\n      <td>FACEBOOK</td>\n      <td>PORCENTAJE DE CRECIMIENTO</td>\n      <td>2020</td>\n      <td>0.43%</td>\n      <td>3%</td>\n      <td>2%</td>\n      <td>3%</td>\n      <td>3%</td>\n      <td>4%</td>\n      <td>0%</td>\n      <td>0%</td>\n      <td>0%</td>\n      <td>0%</td>\n      <td>0%</td>\n      <td>0%</td>\n      <td>NaN</td>\n    </tr>\n    <tr>\n      <th>3</th>\n      <td>FACEBOOK</td>\n      <td>PUBLICACIONES</td>\n      <td>2020</td>\n      <td>45</td>\n      <td>53</td>\n      <td>52</td>\n      <td>106</td>\n      <td>98</td>\n      <td>64</td>\n      <td>0</td>\n      <td>0</td>\n      <td>0</td>\n      <td>0</td>\n      <td>0</td>\n      <td>0</td>\n      <td>NaN</td>\n    </tr>\n    <tr>\n      <th>4</th>\n      <td>FACEBOOK</td>\n      <td>ME GUSTA EN PUBLICACIONES</td>\n      <td>2020</td>\n      <td>8771</td>\n      <td>9002</td>\n      <td>13556</td>\n      <td>15022</td>\n      <td>38953</td>\n      <td>16487</td>\n      <td>0</td>\n      <td>0</td>\n      <td>0</td>\n      <td>0</td>\n      <td>0</td>\n      <td>0</td>\n      <td>NaN</td>\n    </tr>\n    <tr>\n      <th>5</th>\n      <td>FACEBOOK</td>\n      <td>PUBLICACIONES COMPARTIDAS</td>\n      <td>2020</td>\n      <td>2338</td>\n      <td>2680</td>\n      <td>2802</td>\n      <td>4214</td>\n      <td>8415</td>\n      <td>4240</td>\n      <td>0</td>\n      <td>0</td>\n      <td>0</td>\n      <td>0</td>\n      <td>0</td>\n      <td>0</td>\n      <td>NaN</td>\n    </tr>\n    <tr>\n      <th>6</th>\n      <td>FACEBOOK</td>\n      <td>COMENTARIOS (USUARIOS)</td>\n      <td>2020</td>\n      <td>902</td>\n      <td>601</td>\n      <td>775</td>\n      <td>1100</td>\n      <td>2614</td>\n      <td>1268</td>\n      <td>0</td>\n      <td>0</td>\n      <td>0</td>\n      <td>0</td>\n      <td>0</td>\n      <td>0</td>\n      <td>NaN</td>\n    </tr>\n    <tr>\n      <th>7</th>\n      <td>TWITTER</td>\n      <td>SEGUIDORES (FOLLOWERS)</td>\n      <td>2020</td>\n      <td>62404</td>\n      <td>63232</td>\n      <td>64149</td>\n      <td>65410</td>\n      <td>66355</td>\n      <td>67496</td>\n      <td>0</td>\n      <td>0</td>\n      <td>0</td>\n      <td>0</td>\n      <td>0</td>\n      <td>0</td>\n      <td>NaN</td>\n    </tr>\n    <tr>\n      <th>8</th>\n      <td>TWITTER</td>\n      <td>CRECIMIENTO DE FOLLOWERS</td>\n      <td>2020</td>\n      <td>863</td>\n      <td>828</td>\n      <td>917</td>\n      <td>1261</td>\n      <td>945</td>\n      <td>1141</td>\n      <td>0</td>\n      <td>0</td>\n      <td>0</td>\n      <td>0</td>\n      <td>0</td>\n      <td>0</td>\n      <td>NaN</td>\n    </tr>\n    <tr>\n      <th>9</th>\n      <td>TWITTER</td>\n      <td>PORCENTAJE DE CRECIMIENTO</td>\n      <td>2020</td>\n      <td>1%</td>\n      <td>1%</td>\n      <td>1%</td>\n      <td>2%</td>\n      <td>1%</td>\n      <td>1%</td>\n      <td>0%</td>\n      <td>0%</td>\n      <td>0%</td>\n      <td>0%</td>\n      <td>0%</td>\n      <td>0%</td>\n      <td>NaN</td>\n    </tr>\n    <tr>\n      <th>10</th>\n      <td>TWITTER</td>\n      <td>PUBLICACIONES</td>\n      <td>2020</td>\n      <td>77</td>\n      <td>84</td>\n      <td>90</td>\n      <td>135</td>\n      <td>127</td>\n      <td>82</td>\n      <td>0</td>\n      <td>0</td>\n      <td>0</td>\n      <td>0</td>\n      <td>0</td>\n      <td>0</td>\n      <td>NaN</td>\n    </tr>\n    <tr>\n      <th>11</th>\n      <td>TWITTER</td>\n      <td>RETUITS</td>\n      <td>2020</td>\n      <td>563</td>\n      <td>601</td>\n      <td>748</td>\n      <td>847</td>\n      <td>1136</td>\n      <td>780</td>\n      <td>0</td>\n      <td>0</td>\n      <td>0</td>\n      <td>0</td>\n      <td>0</td>\n      <td>0</td>\n      <td>NaN</td>\n    </tr>\n    <tr>\n      <th>12</th>\n      <td>TWITTER</td>\n      <td>ME GUSTA</td>\n      <td>2020</td>\n      <td>1224</td>\n      <td>1225</td>\n      <td>1601</td>\n      <td>1994</td>\n      <td>2667</td>\n      <td>2069</td>\n      <td>0</td>\n      <td>0</td>\n      <td>0</td>\n      <td>0</td>\n      <td>0</td>\n      <td>0</td>\n      <td>NaN</td>\n    </tr>\n    <tr>\n      <th>13</th>\n      <td>TWITTER</td>\n      <td>IMPACTOS</td>\n      <td>2020</td>\n      <td>197275</td>\n      <td>220118</td>\n      <td>270310</td>\n      <td>311931</td>\n      <td>409684</td>\n      <td>284147</td>\n      <td>0</td>\n      <td>0</td>\n      <td>0</td>\n      <td>0</td>\n      <td>0</td>\n      <td>0</td>\n      <td>NaN</td>\n    </tr>\n    <tr>\n      <th>14</th>\n      <td>YOUTUBE</td>\n      <td>VIDEOS</td>\n      <td>2020</td>\n      <td>1</td>\n      <td>2</td>\n      <td>5</td>\n      <td>4</td>\n      <td>4</td>\n      <td>4</td>\n      <td>0</td>\n      <td>0</td>\n      <td>0</td>\n      <td>3</td>\n      <td>5</td>\n      <td>0</td>\n      <td>NaN</td>\n    </tr>\n    <tr>\n      <th>15</th>\n      <td>YOUTUBE</td>\n      <td>VISUALIZACIONES</td>\n      <td>2020</td>\n      <td>12226</td>\n      <td>15605</td>\n      <td>19602</td>\n      <td>19452</td>\n      <td>21805</td>\n      <td>17344</td>\n      <td>0</td>\n      <td>0</td>\n      <td>0</td>\n      <td>0</td>\n      <td>0</td>\n      <td>0</td>\n      <td>NaN</td>\n    </tr>\n    <tr>\n      <th>16</th>\n      <td>YOUTUBE</td>\n      <td>COMENTARIOS</td>\n      <td>2020</td>\n      <td>0</td>\n      <td>0</td>\n      <td>2</td>\n      <td>0</td>\n      <td>6</td>\n      <td>0</td>\n      <td>0</td>\n      <td>0</td>\n      <td>0</td>\n      <td>1</td>\n      <td>3</td>\n      <td>0</td>\n      <td>NaN</td>\n    </tr>\n    <tr>\n      <th>17</th>\n      <td>YOUTUBE</td>\n      <td>ME GUSTA</td>\n      <td>2020</td>\n      <td>4</td>\n      <td>15</td>\n      <td>15</td>\n      <td>8</td>\n      <td>30</td>\n      <td>33</td>\n      <td>0</td>\n      <td>0</td>\n      <td>0</td>\n      <td>8</td>\n      <td>23</td>\n      <td>0</td>\n      <td>NaN</td>\n    </tr>\n  </tbody>\n</table>\n</div>"
          },
          "metadata": {}
        }
      ]
    },
    {
      "cell_type": "markdown",
      "source": "# Punto 2:",
      "metadata": {}
    },
    {
      "cell_type": "code",
      "source": "# caso 2: datos separados por puntos y comas",
      "metadata": {
        "trusted": true
      },
      "execution_count": 5,
      "outputs": []
    },
    {
      "cell_type": "code",
      "source": "contador = 0\nsuma = 0\nnumero= 1\nwhile numero != 0:\n    numero = int(input('Digite un numero entero (0 para promediar)'))\n    suma += numero\n    contador += 1\nif contador == 0 :\n    print(\"No digito numero\")\nelse:\n    promedio = suma / contador\n    print('promedio de los {} numeros es igual a {}'.format(contador,promedio))  ",
      "metadata": {
        "trusted": true
      },
      "execution_count": 14,
      "outputs": [
        {
          "ename": "<class 'TypeError'>",
          "evalue": "int() argument must be a string, a bytes-like object or a real number, not 'Future'",
          "traceback": [
            "\u001b[0;31m---------------------------------------------------------------------------\u001b[0m",
            "\u001b[0;31mTypeError\u001b[0m                                 Traceback (most recent call last)",
            "Input \u001b[0;32mIn [14]\u001b[0m, in \u001b[0;36m<cell line: 4>\u001b[0;34m()\u001b[0m\n\u001b[1;32m      3\u001b[0m numero\u001b[38;5;241m=\u001b[39m \u001b[38;5;241m1\u001b[39m\n\u001b[1;32m      4\u001b[0m \u001b[38;5;28;01mwhile\u001b[39;00m numero \u001b[38;5;241m!=\u001b[39m \u001b[38;5;241m0\u001b[39m:\n\u001b[0;32m----> 5\u001b[0m     numero \u001b[38;5;241m=\u001b[39m \u001b[38;5;28;43mint\u001b[39;49m\u001b[43m(\u001b[49m\u001b[38;5;28;43minput\u001b[39;49m\u001b[43m(\u001b[49m\u001b[38;5;124;43m'\u001b[39;49m\u001b[38;5;124;43mDigite un numero entero (0 para promediar)\u001b[39;49m\u001b[38;5;124;43m'\u001b[39;49m\u001b[43m)\u001b[49m\u001b[43m)\u001b[49m\n\u001b[1;32m      6\u001b[0m     suma \u001b[38;5;241m+\u001b[39m\u001b[38;5;241m=\u001b[39m numero\n\u001b[1;32m      7\u001b[0m     contador \u001b[38;5;241m+\u001b[39m\u001b[38;5;241m=\u001b[39m \u001b[38;5;241m1\u001b[39m\n",
            "\u001b[0;31mTypeError\u001b[0m: int() argument must be a string, a bytes-like object or a real number, not 'Future'"
          ],
          "output_type": "error"
        },
        {
          "output_type": "stream",
          "name": "stdin",
          "text": "Digite un numero entero (0 para promediar) 5\n"
        }
      ]
    },
    {
      "cell_type": "markdown",
      "source": "# Punto 3:",
      "metadata": {}
    },
    {
      "cell_type": "code",
      "source": "a=int(input(\"Diferencia de followers de twitter de enero a junio(presiona 0)\"))\nif a == 0:\n    print(\"Es de 50922\")\n",
      "metadata": {
        "trusted": true
      },
      "execution_count": 16,
      "outputs": [
        {
          "ename": "<class 'TypeError'>",
          "evalue": "int() argument must be a string, a bytes-like object or a real number, not 'Future'",
          "traceback": [
            "\u001b[0;31m---------------------------------------------------------------------------\u001b[0m",
            "\u001b[0;31mTypeError\u001b[0m                                 Traceback (most recent call last)",
            "Input \u001b[0;32mIn [16]\u001b[0m, in \u001b[0;36m<cell line: 1>\u001b[0;34m()\u001b[0m\n\u001b[0;32m----> 1\u001b[0m a\u001b[38;5;241m=\u001b[39m\u001b[38;5;28;43mint\u001b[39;49m\u001b[43m(\u001b[49m\u001b[38;5;28;43minput\u001b[39;49m\u001b[43m(\u001b[49m\u001b[38;5;124;43m\"\u001b[39;49m\u001b[38;5;124;43mDiferencia de followers de twitter de enero a junio(presiona 0)\u001b[39;49m\u001b[38;5;124;43m\"\u001b[39;49m\u001b[43m)\u001b[49m\u001b[43m)\u001b[49m\n\u001b[1;32m      2\u001b[0m \u001b[38;5;28;01mif\u001b[39;00m a \u001b[38;5;241m==\u001b[39m \u001b[38;5;241m0\u001b[39m:\n\u001b[1;32m      3\u001b[0m     \u001b[38;5;28mprint\u001b[39m(\u001b[38;5;124m\"\u001b[39m\u001b[38;5;124mEs de 50922\u001b[39m\u001b[38;5;124m\"\u001b[39m)\n",
            "\u001b[0;31mTypeError\u001b[0m: int() argument must be a string, a bytes-like object or a real number, not 'Future'"
          ],
          "output_type": "error"
        },
        {
          "output_type": "stream",
          "name": "stdin",
          "text": "Diferencia de followers de twitter de enero a junio(presiona 0) 0\n"
        }
      ]
    },
    {
      "cell_type": "code",
      "source": "",
      "metadata": {},
      "execution_count": null,
      "outputs": []
    },
    {
      "cell_type": "code",
      "source": "",
      "metadata": {},
      "execution_count": null,
      "outputs": []
    },
    {
      "cell_type": "markdown",
      "source": "# Gracias!\n## Espero que te lleves algo útil de este notebook 😀\n\nPara más videos de programación para ciencia de datos\n\nhttps://www.youtube.com/c/RafaGonzalezGouveia/\n\nSi quieres realizar alguno de los cursos online de pago, ve a:\n\nhttps://cursos.gonzalezgouveia.com",
      "metadata": {}
    },
    {
      "cell_type": "code",
      "source": "",
      "metadata": {},
      "execution_count": null,
      "outputs": []
    }
  ]
}